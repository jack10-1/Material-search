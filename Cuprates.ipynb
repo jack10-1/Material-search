{
 "cells": [
  {
   "cell_type": "code",
   "execution_count": 37,
   "metadata": {},
   "outputs": [
    {
     "name": "stderr",
     "output_type": "stream",
     "text": [
      "/Library/Frameworks/Python.framework/Versions/3.11/lib/python3.11/site-packages/tqdm/auto.py:21: TqdmWarning: IProgress not found. Please update jupyter and ipywidgets. See https://ipywidgets.readthedocs.io/en/stable/user_install.html\n",
      "  from .autonotebook import tqdm as notebook_tqdm\n",
      "/Library/Frameworks/Python.framework/Versions/3.11/lib/python3.11/site-packages/mpcontribs/client/__init__.py:90: FutureWarning: use_inf_as_na option is deprecated and will be removed in a future version. Convert inf values to NaN before operating instead.\n",
      "  pd.set_option('mode.use_inf_as_na', True)\n",
      "Accessing summary data through MPRester.summary is deprecated. Please use MPRester.materials.summary instead.\n",
      "Retrieving SummaryDoc documents: 100%|██████████| 4957/4957 [00:11<00:00, 441.51it/s]"
     ]
    },
    {
     "name": "stdout",
     "output_type": "stream",
     "text": [
      "mp-2219075\n",
      "4957\n"
     ]
    },
    {
     "name": "stderr",
     "output_type": "stream",
     "text": [
      "\n"
     ]
    }
   ],
   "source": [
    "#Run this first\n",
    "\n",
    "from pymatgen import electronic_structure #Make sure that pymatgen is installed\n",
    "from pymatgen.electronic_structure import plotter\n",
    "from pymatgen.electronic_structure.plotter import BSDOSPlotter, BSPlotter, DosPlotter\n",
    "from mp_api.client import MPRester\n",
    "\n",
    "My_API = 'MJUC3rwGsmc3tEkuE5Q5gOkT3prWnpad' #Find this API Key by going to materialsproject.org -> API -> API Key. (You need an account to do this)\n",
    "\n",
    "Mat_ID = \"mp-763\" #Every material in materialsproject.org has a unique ID attribute to it. Enter this ID here\n",
    "\n",
    "with MPRester(api_key=My_API) as mpr:\n",
    "    docs = mpr.summary.search(elements=[\"Cu\", \"O\"]) #docs contains information about all materials in materials project that contain Cu and O.\n",
    "#print(docs[0].material_id) \n",
    "print('Number of matching compounds from materials project: '+str(len(docs)))"
   ]
  },
  {
   "cell_type": "code",
   "execution_count": 73,
   "metadata": {},
   "outputs": [
    {
     "name": "stdout",
     "output_type": "stream",
     "text": [
      "Sr2Cu(ClO)2\n",
      "Sr2CuCl2O2\n",
      "Sr2CaCu2(BiO4)2\n",
      "Cu2AsO5\n"
     ]
    }
   ],
   "source": [
    "import re\n",
    "Caps = ['A','B','C','D','E','F','G','H','I','J','K','L','M','N','O','P','Q','R','S','T','U','V','W','X','Y','Z']\n",
    "\n",
    "def expand(f): #Expand a chemical formula to get rid of the parentheses\n",
    "    nums = ['0','1','2','3','4','5','6','7','8','9']\n",
    "\n",
    "    res = re.search('\\((.*)\\)',f) #Find the group within the parentheses\n",
    "    try:\n",
    "        ss = res.group(1) #Are there any parentheses?\n",
    "    except:\n",
    "        return(f) # ... If not, just return the input\n",
    "    \n",
    "    res2 = re.search('(.*)\\(',f) #Redefine the new string (subs2) such that it begins with the characters preceding the parentheses.\n",
    "    subs2 = res2.group(1) #subs2 is what the function returns\n",
    "\n",
    "    #Find the multiplier that follows the parentheses\n",
    "    ####\n",
    "    i = int(1)\n",
    "    l = len(f)\n",
    "    num = int(0)\n",
    "    while(1):\n",
    "        if f[l-i] not in nums:\n",
    "            break\n",
    "        else:\n",
    "            num += 10**(i-1)*int(f[l-i])\n",
    "            i += 1\n",
    "    mult = str(num) #Multiplier in string format\n",
    "    ####\n",
    "\n",
    "    #Break the terms up that are inside the parentheses\n",
    "    ####\n",
    "    s = 0\n",
    "    subs = [] #Each item in subs is an element along with its stoichiometric factor\n",
    "    for t in range(len(ss)):\n",
    "        if t == 0:\n",
    "            continue\n",
    "        if ss[t] in Caps:\n",
    "            subs.append(ss[s:t])\n",
    "            s = t\n",
    "        if t == (len(ss)-1):\n",
    "            subs.append(ss[s:t+1])\n",
    "    ####\n",
    "\n",
    "    #Modify each term according to the multiplier and add it back to the base string (what comes before the parentheses)\n",
    "    ####\n",
    "    for sub in subs:\n",
    "        i = int(1)\n",
    "        l = len(sub)\n",
    "        num = int(0) #New number for each term\n",
    "        if sub[l-1] not in nums:\n",
    "            sub += mult\n",
    "\n",
    "        else:\n",
    "            while(1):\n",
    "                if sub[l-i] not in nums:\n",
    "                    i -= 1\n",
    "                    break\n",
    "                else:\n",
    "                    num += 10**(i-1)*int(sub[l-i])\n",
    "                    i += 1 \n",
    "            sub = sub[:-i]+str(num*int(mult)) #Rewrite each elemental term\n",
    "        subs2 += sub #Assemble the expanded chemical formula\n",
    "    ####\n",
    "\n",
    "    return(subs2)\n",
    "\n",
    "mats = [] #mats stores the expanded chemical formulae of all relevant materials\n",
    "for doc in docs:\n",
    "    formula = doc.formula_pretty\n",
    "    ID = doc.material_id\n",
    "    \n",
    "    #The optional commented code below is an optional filter that only considers materials that are theoretical metals (this includes mott insulators)\n",
    "    \"\"\"\n",
    "    if doc.is_metal: #Only consider compounds which are theoretically metallic\n",
    "        mats.append(expand(formula))\n",
    "    \"\"\"\n",
    "    mats.append(expand(formula)) #Comment out this line if the above section is uncommented.\n",
    "\n",
    "    #The optional commented code below prints some example chemical formulae before and after filtering (if they don't match, then they didn't get through the filter)\n",
    "    \"\"\"\n",
    "    if ID == 'mp-555855' or ID == 'mp-23102': #Two examples \n",
    "        print(formula)\n",
    "        print(mats[-1])\n",
    "    \"\"\""
   ]
  },
  {
   "cell_type": "code",
   "execution_count": 76,
   "metadata": {},
   "outputs": [
    {
     "name": "stdout",
     "output_type": "stream",
     "text": [
      "Number of compound permutations: 18174\n",
      "Cu6PbO8\n",
      "Cu6O8Pb\n",
      "PbCu6O8\n"
     ]
    }
   ],
   "source": [
    "from itertools import permutations\n",
    "#Annoyingly, the 2D materials database and materials project don't have the same naming conventions for certain compounds.\n",
    "#This means that we have to consider all possible permutations in writing the chemical formulae, which is what the code \n",
    "#below accomplishes.\n",
    "\n",
    "mats2 = [] #This is the new list where all permutations are stored.\n",
    "\n",
    "for mat in mats: #Iterate over all compounds\n",
    "    s = 0\n",
    "    subs = []\n",
    "    for t in range(len(mat)): #Find each element and its stoichiometric factor. This is stored in 'subs'\n",
    "        if t == 0:\n",
    "            continue\n",
    "        if mat[t] in Caps: \n",
    "            subs.append(mat[s:t])\n",
    "            s = t\n",
    "        elif t == (len(mat)-1):\n",
    "            subs.append(mat[s:t+1])\n",
    "    #print(subs)\n",
    "    Sl = len(subs)\n",
    "    P = list(permutations(range(Sl))) #List all possible permutations for the chemical formula\n",
    "    for p in P:\n",
    "        out = ''\n",
    "        for y in range(Sl):\n",
    "            out += subs[p[y]]\n",
    "        mats2.append(out)\n",
    "print('Number of compound permutations: '+str(len(mats2)))\n",
    "#print(mats2[0])\n",
    "#print(mats2[1])\n",
    "#print(mats2[2])"
   ]
  },
  {
   "cell_type": "code",
   "execution_count": 75,
   "metadata": {},
   "outputs": [
    {
     "name": "stdout",
     "output_type": "stream",
     "text": [
      "Sr2CuO2Cl2\n",
      "K2Cu3Se4O12\n",
      "Ba2Cu2Te4O11Br2\n",
      "Sr2CuO2Br2\n",
      "Sr2CuO2I2\n",
      "Cu3Yb2Te4O12Cl4\n",
      "K2CuSO4Cl2\n",
      "CuSb6S2O16\n",
      "Cu2P2O7\n",
      "K2CuP2O7\n",
      "CuSe2O5\n",
      "CuO6I2\n",
      "Ca2CuO2Br2\n"
     ]
    }
   ],
   "source": [
    "from M2D import * #Make sure that M2D.py is saved in the same directory as this jupyter notebook file.\n",
    "M = Mat2d()\n",
    "Mats = list(M.Mat['data']['compounds']) #Mats is the complete list of materials from the 2D material cloud database.\n",
    "Final = [] \n",
    "for mat in mats2:\n",
    "    if (mat in Mats) and (mat not in Final): #Check for any compounds that appear in both materials project and the 2D database.\n",
    "        Final.append(mat) #...these compounds are stored in 'Final'\n",
    "        print(mat)"
   ]
  }
 ],
 "metadata": {
  "kernelspec": {
   "display_name": "Python 3",
   "language": "python",
   "name": "python3"
  },
  "language_info": {
   "codemirror_mode": {
    "name": "ipython",
    "version": 3
   },
   "file_extension": ".py",
   "mimetype": "text/x-python",
   "name": "python",
   "nbconvert_exporter": "python",
   "pygments_lexer": "ipython3",
   "version": "3.11.5"
  },
  "orig_nbformat": 4
 },
 "nbformat": 4,
 "nbformat_minor": 2
}
